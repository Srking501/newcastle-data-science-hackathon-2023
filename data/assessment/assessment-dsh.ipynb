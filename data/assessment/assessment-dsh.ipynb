{
 "cells": [
  {
   "attachments": {},
   "cell_type": "markdown",
   "metadata": {},
   "source": [
    "# Data Science Hackathon Newcastle 2023\n",
    "\n",
    "By Abdullah Alshadadi"
   ]
  },
  {
   "attachments": {},
   "cell_type": "markdown",
   "metadata": {},
   "source": [
    "References:\n",
    "\n",
    "```bibtex\n",
    "@article{PAPAGIANNIDIS2018355,\n",
    "title = {Identifying industrial clusters with a novel big-data methodology: Are SIC codes (not) fit for purpose in the Internet age?},\n",
    "journal = {Computers & Operations Research},\n",
    "volume = {98},\n",
    "pages = {355-366},\n",
    "year = {2018},\n",
    "issn = {0305-0548},\n",
    "doi = {https://doi.org/10.1016/j.cor.2017.06.010},\n",
    "url = {https://www.sciencedirect.com/science/article/pii/S030505481730148X},\n",
    "author = {Savvas Papagiannidis and Eric W.K. See-To and Dimitris G. Assimakopoulos and Yang Yang},\n",
    "keywords = {Industry classification, SIC codes, Big data analytics, Clusters, Operations, Strategic co-operation, Regional policy, North East of England},\n",
    "abstract = {In this paper we propose using a novel big-data-mining methodology and the Internet as a new source of useful meta-data for industry classification. The proposed methodology can be utilised as a decision support system for identifying industrial clusters in almost real time in a specific geographic region, contributing to strategic co-operation and policy development for operations and supply chain management across organisational boundaries through big data analytics. Our theoretical discussion on discerning industrial activity of firms in geographical regions starts by highlighting the limitations of the Standard Industrial Classification (SIC) codes. This discussion is followed by the proposed methodology, which has three main steps revolving around web-based data collection, pre-processing and analysis, and reporting of clusters. We discuss each step in detail, presenting the experimental approaches tested. We apply our methodology to a regional case, in the North East of England, in order to demonstrate how such a big data decision support system/analytics can work in practice. Implications for theory, policy and practice are discussed, as well as potential avenues for further research.}\n",
    "}\n",
    "```"
   ]
  },
  {
   "attachments": {},
   "cell_type": "markdown",
   "metadata": {},
   "source": [
    "## Introduction\n",
    "\n",
    "Data Science Hackathon focuses on the goal to create a better solution to the Standard Industrial Classification (SIC) codes, which is a methodology for identifying industrial clusters in a geographic regions.\n",
    "\n",
    "This hackathon has been tasked to use [Elevate Greece website](https://elevategreece.gov.gr/startup-database/) to gather the data from the startups in Greece and cluster the industries without relying on SIC codes."
   ]
  },
  {
   "attachments": {},
   "cell_type": "markdown",
   "metadata": {},
   "source": [
    "### Investigating the website of Elevate Greece Startup Database\n",
    "\n",
    "First of all, the website seems to have updated its information on startup. Since the start of the Data Science Hackathon, the dataset of startups were 700 now it is currently around 713 entries. Therefore, it is important to agree on a checkpoint of time where only that checkpoint of dataset will be retrieved for the hackathon.\n",
    "\n",
    "![elevate-26-03-2023](assets/imgs/updated-data.png \"The entries for Elevate Greece website has increased to 711\")\n",
    "\n",
    "\n",
    "* **The website layout**:\n",
    "\n",
    "    1. The webpage of [Elevate Greece Startup Database](https://elevategreece.gov.gr/startup-database) contains a table that displays by default 15 startup companies with clickable elements for the next 15 entries till the 713 entry. Therefore, a webscraper that could click on the elements to view each 15 entries till the 713 entry is needed to retrieve each of the tables content.\n",
    "\n",
    "    ![elevate-webpage-26-03-2023](assets/imgs/elevate-webpage.png \"The webpage layout which contains a table of 15 entries with clickable elements to the next 713 entries\")\n",
    "\n",
    "    2. Clicking on one of the startup through the `Startup` column leads to the details of the startup company. However, this is the details that the startup company has provided to the Elevate Greece government sector, which follows Greece's SIC code. Thus, it is important to follow up the details with the company's respected website to gather up to date information.\n",
    "\n",
    "    ![elevate-column-startup-26-03-2023](assets/imgs/column-to-view-details.png \"An example showing where the `Startup` column\")\n",
    "\n",
    "    [![elevate-startup-details-26-03-2023](assets/imgs/startup-details.png \"An example of the Elevate's webpage details on the selected startup company\")](https://registry.elevategreece.gov.gr/company/i-love-dyslexia-english-language-innovation-eli-ike/)\n",
    "\n",
    "    3. Either clicking on the `Website` column link at the Elevate Greece table's startup database as shown above at bullet point 1 or clicking on `Startup` column as shown in bullet point 2 shows the startup company's website. Thus, this is one of the main sources to gather information on the startup companies.\n",
    "\n",
    "    ![elevate-column-website-26-03-2023](assets/imgs/column-to-view-website.png \"An example showing where the `website` column\")\n",
    "\n",
    "    [![elevate-startup-details-website-26-03-2023](assets/imgs/startup-details-website.png \"An example showing where the website link is in the Elevate's webpage details of a startup company\")](https://registry.elevategreece.gov.gr/company/i-love-dyslexia-english-language-innovation-eli-ike/)\n",
    "\n",
    "    "
   ]
  },
  {
   "attachments": {},
   "cell_type": "markdown",
   "metadata": {},
   "source": [
    "## Investigating the [Data Gathered So Far](https://github.com/LeeTaylorNewcastle/Data-Science-Hackathon-02-03-2023/tree/a145b1925d6ed9f7d5810e29c542fdc4139aac99)\n",
    "\n",
    "This is the publicly retrieved data the team has gathered by [Lee Taylor](https://github.com/LeeTaylorNewcastle/Data-Science-Hackathon-02-03-2023/tree/a145b1925d6ed9f7d5810e29c542fdc4139aac99).\n",
    "\n",
    "The data gathered are structured as so:\n",
    "\n",
    "```\n",
    "    data\n",
    "    └── Data-Science-Hackathon-02-03-2023\n",
    "        ├── Deprecated  # This folder was used for experiment on creating a webscraper\n",
    "        │   ├── HTML Files  # Elevate Greece details on a startup company webpage\n",
    "        │   ├── PDFs  # The downloadable PDF file that contains the table of startup database gathered by Elevate Greece\n",
    "        │   ├── python_  # Different Python code \n",
    "        │   ├── Soup Output  # \n",
    "        │   └── templates  # Elevate Greece Startup Database table\n",
    "        ├── Greek Startups  # Main Data\n",
    "        │   ├── Copy Paste Website Text  # Manually extracted text data from the website pages\n",
    "        │   ├── Excel Files Originals  # Manually extracted the Elevate Greece Startup Database table \n",
    "        │   └── Excel Files & Processing  # Retrieved data using the webscraper\n",
    "        │       ├── soup_objects  # The html of each Elevate Greece details on a startup company webpage\n",
    "        │       └── soup_to_text  # Extracted text from the Elevate Greece details on a startup company webpage\n",
    "```"
   ]
  },
  {
   "attachments": {},
   "cell_type": "markdown",
   "metadata": {},
   "source": [
    "Viewing data the manually retrieved Elevate Greece Startup Database table, it would seem to have a complete missing data on website - `NaN`"
   ]
  },
  {
   "cell_type": "code",
   "execution_count": 4,
   "metadata": {},
   "outputs": [
    {
     "data": {
      "text/html": [
       "<div>\n",
       "<style scoped>\n",
       "    .dataframe tbody tr th:only-of-type {\n",
       "        vertical-align: middle;\n",
       "    }\n",
       "\n",
       "    .dataframe tbody tr th {\n",
       "        vertical-align: top;\n",
       "    }\n",
       "\n",
       "    .dataframe thead th {\n",
       "        text-align: right;\n",
       "    }\n",
       "</style>\n",
       "<table border=\"1\" class=\"dataframe\">\n",
       "  <thead>\n",
       "    <tr style=\"text-align: right;\">\n",
       "      <th></th>\n",
       "      <th>Startup</th>\n",
       "      <th>Industry</th>\n",
       "      <th>Technology</th>\n",
       "      <th>Region</th>\n",
       "      <th>Employee count</th>\n",
       "      <th>Total funding €</th>\n",
       "      <th>Website</th>\n",
       "    </tr>\n",
       "  </thead>\n",
       "  <tbody>\n",
       "    <tr>\n",
       "      <th>0</th>\n",
       "      <td>'I LOVE DYSLEXIA' ENGLISH LANGUAGE INNOVATION ...</td>\n",
       "      <td>EduTech - Education</td>\n",
       "      <td>AI, Software, Web or Mobile Application</td>\n",
       "      <td>Attica</td>\n",
       "      <td>13</td>\n",
       "      <td>215</td>\n",
       "      <td>NaN</td>\n",
       "    </tr>\n",
       "    <tr>\n",
       "      <th>1</th>\n",
       "      <td>100 MENTORS IKE</td>\n",
       "      <td>EduTech - Education</td>\n",
       "      <td>AI, Blockchain, Data Analytics - Big Data, Sof...</td>\n",
       "      <td>Crete</td>\n",
       "      <td>21</td>\n",
       "      <td>-</td>\n",
       "      <td>NaN</td>\n",
       "    </tr>\n",
       "    <tr>\n",
       "      <th>2</th>\n",
       "      <td>12GODS PC</td>\n",
       "      <td>AgriTech / FoodTech</td>\n",
       "      <td>Other</td>\n",
       "      <td>Attica</td>\n",
       "      <td>1</td>\n",
       "      <td>37K</td>\n",
       "      <td>NaN</td>\n",
       "    </tr>\n",
       "    <tr>\n",
       "      <th>3</th>\n",
       "      <td>27 Research</td>\n",
       "      <td>Maritime</td>\n",
       "      <td>AI, Data Analytics - Big Data</td>\n",
       "      <td>Attica</td>\n",
       "      <td>-</td>\n",
       "      <td>-</td>\n",
       "      <td>NaN</td>\n",
       "    </tr>\n",
       "    <tr>\n",
       "      <th>4</th>\n",
       "      <td>33 CLOUDS IKE</td>\n",
       "      <td>Data Analytics - Big Data</td>\n",
       "      <td>Data Analytics - Big Data, Software, Web or Mo...</td>\n",
       "      <td>Attica</td>\n",
       "      <td>9</td>\n",
       "      <td>-</td>\n",
       "      <td>NaN</td>\n",
       "    </tr>\n",
       "  </tbody>\n",
       "</table>\n",
       "</div>"
      ],
      "text/plain": [
       "                                             Startup  \\\n",
       "0  'I LOVE DYSLEXIA' ENGLISH LANGUAGE INNOVATION ...   \n",
       "1                                    100 MENTORS IKE   \n",
       "2                                          12GODS PC   \n",
       "3                                        27 Research   \n",
       "4                                      33 CLOUDS IKE   \n",
       "\n",
       "                    Industry  \\\n",
       "0        EduTech - Education   \n",
       "1        EduTech - Education   \n",
       "2        AgriTech / FoodTech   \n",
       "3                   Maritime   \n",
       "4  Data Analytics - Big Data   \n",
       "\n",
       "                                          Technology  Region Employee count  \\\n",
       "0            AI, Software, Web or Mobile Application  Attica             13   \n",
       "1  AI, Blockchain, Data Analytics - Big Data, Sof...   Crete             21   \n",
       "2                                              Other  Attica              1   \n",
       "3                      AI, Data Analytics - Big Data  Attica              -   \n",
       "4  Data Analytics - Big Data, Software, Web or Mo...  Attica              9   \n",
       "\n",
       "  Total funding € Website  \n",
       "0             215     NaN  \n",
       "1               -     NaN  \n",
       "2             37K     NaN  \n",
       "3               -     NaN  \n",
       "4               -     NaN  "
      ]
     },
     "execution_count": 4,
     "metadata": {},
     "output_type": "execute_result"
    }
   ],
   "source": [
    "import pandas as pd\n",
    "mainpage_dataset = pd.read_csv(\"../Data-Science-Hackathon-02-03-2023/Greek Startups/Excel Files Originals/combined_csv.csv\")\n",
    "mainpage_dataset.head(5)"
   ]
  },
  {
   "attachments": {},
   "cell_type": "markdown",
   "metadata": {},
   "source": [
    "Furthermore, it has sometimes repeated the columns headers into the rows as seen below"
   ]
  },
  {
   "cell_type": "code",
   "execution_count": 15,
   "metadata": {},
   "outputs": [
    {
     "data": {
      "text/plain": [
       "Startup                    Startup\n",
       "Industry                  Industry\n",
       "Technology              Technology\n",
       "Region                      Region\n",
       "Employee count      Employee count\n",
       "Total funding €    Total funding €\n",
       "Website                    Website\n",
       "Name: 99, dtype: object"
      ]
     },
     "execution_count": 15,
     "metadata": {},
     "output_type": "execute_result"
    }
   ],
   "source": [
    "mainpage_dataset.iloc[99]"
   ]
  }
 ],
 "metadata": {
  "kernelspec": {
   "display_name": "Python 3 (Spyder)",
   "language": "python3",
   "name": "python3"
  },
  "language_info": {
   "codemirror_mode": {
    "name": "ipython",
    "version": 3
   },
   "file_extension": ".py",
   "mimetype": "text/x-python",
   "name": "python",
   "nbconvert_exporter": "python",
   "pygments_lexer": "ipython3",
   "version": "3.9.13"
  }
 },
 "nbformat": 4,
 "nbformat_minor": 4
}
